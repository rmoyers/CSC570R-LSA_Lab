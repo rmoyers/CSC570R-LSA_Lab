{
 "cells": [
  {
   "cell_type": "code",
   "execution_count": 2,
   "metadata": {
    "collapsed": false
   },
   "outputs": [],
   "source": [
    "from sklearn.datasets import fetch_20newsgroups\n",
    "categories = ['rec.sport.baseball']\n",
    "dataset = fetch_20newsgroups(subset='all',shuffle=True, random_state=42, categories=categories)\n",
    "corpus = dataset.data\n"
   ]
  },
  {
   "cell_type": "code",
   "execution_count": 3,
   "metadata": {
    "collapsed": true
   },
   "outputs": [],
   "source": [
    "from bs4 import BeautifulSoup\n",
    "import nltk\n",
    "from nltk.corpus import stopwords\n",
    "from sklearn.feature_extraction.text import TfidfVectorizer\n",
    "from sklearn.decomposition import TruncatedSVD"
   ]
  },
  {
   "cell_type": "code",
   "execution_count": 4,
   "metadata": {
    "collapsed": false
   },
   "outputs": [
    {
     "name": "stdout",
     "output_type": "stream",
     "text": [
      "[nltk_data] Downloading package stopwords to\n",
      "[nltk_data]     C:\\Users\\Randy\\AppData\\Roaming\\nltk_data...\n",
      "[nltk_data]   Package stopwords is already up-to-date!\n"
     ]
    },
    {
     "data": {
      "text/plain": [
       "True"
      ]
     },
     "execution_count": 4,
     "metadata": {},
     "output_type": "execute_result"
    }
   ],
   "source": [
    "#run this only once\n",
    "nltk.download('stopwords')"
   ]
  },
  {
   "cell_type": "code",
   "execution_count": 16,
   "metadata": {
    "collapsed": false
   },
   "outputs": [
    {
     "data": {
      "text/plain": [
       "994"
      ]
     },
     "execution_count": 16,
     "metadata": {},
     "output_type": "execute_result"
    }
   ],
   "source": [
    "len(corpus)"
   ]
  },
  {
   "cell_type": "code",
   "execution_count": 5,
   "metadata": {
    "collapsed": false
   },
   "outputs": [
    {
     "data": {
      "text/plain": [
       "\"From: writingctr@leo.bsuvc.bsu.edu\\nSubject: Re: CUB fever.\\nOrganization: Ball State University, Muncie, In - Univ. Computing Svc's\\nLines: 21\\n\\n\\nIn article <kingoz.735285670@camelot>, kingoz@camelot.bradley.edu (Orin Roth) writes:\\n> \\n>    CUB fever is hitting me again. I'm beginning to think they have a \\n>    chance this year. (what the heck am i thinking?)\\n>    Sorry. Just a moment of incompetence.\\n>    I'll be ok. Really. \\n>    Orin.\\n>    Bradley U.\\n> \\n> --\\n> I'm really a jester in disguise!                                   \\nI hear ya!  Then again, we must remember that we are indeed Cub fans, and\\nthat the Cubs will eventually blow it.  After all, the Cubs are the easiest\\nteam in the National League to root for.  No Pressure.  You know they will\\nlose eventually.  Oh well, I suppose we must have faith.  After all, they\\ndo look pretty good, and they don't even have Sandberg back yet.  \\n\\nCUBS IN '93!!!!!\\n\\nCHA\\n\""
      ]
     },
     "execution_count": 5,
     "metadata": {},
     "output_type": "execute_result"
    }
   ],
   "source": [
    "corpus[0]"
   ]
  },
  {
   "cell_type": "code",
   "execution_count": 6,
   "metadata": {
    "collapsed": true
   },
   "outputs": [],
   "source": [
    "stopset = set(stopwords.words('english'))"
   ]
  },
  {
   "cell_type": "code",
   "execution_count": 7,
   "metadata": {
    "collapsed": false
   },
   "outputs": [
    {
     "data": {
      "text/plain": [
       "{'a',\n",
       " 'about',\n",
       " 'above',\n",
       " 'after',\n",
       " 'again',\n",
       " 'against',\n",
       " 'ain',\n",
       " 'all',\n",
       " 'am',\n",
       " 'an',\n",
       " 'and',\n",
       " 'any',\n",
       " 'are',\n",
       " 'aren',\n",
       " 'as',\n",
       " 'at',\n",
       " 'be',\n",
       " 'because',\n",
       " 'been',\n",
       " 'before',\n",
       " 'being',\n",
       " 'below',\n",
       " 'between',\n",
       " 'both',\n",
       " 'but',\n",
       " 'by',\n",
       " 'can',\n",
       " 'couldn',\n",
       " 'd',\n",
       " 'did',\n",
       " 'didn',\n",
       " 'do',\n",
       " 'does',\n",
       " 'doesn',\n",
       " 'doing',\n",
       " 'don',\n",
       " 'down',\n",
       " 'during',\n",
       " 'each',\n",
       " 'few',\n",
       " 'for',\n",
       " 'from',\n",
       " 'further',\n",
       " 'had',\n",
       " 'hadn',\n",
       " 'has',\n",
       " 'hasn',\n",
       " 'have',\n",
       " 'haven',\n",
       " 'having',\n",
       " 'he',\n",
       " 'her',\n",
       " 'here',\n",
       " 'hers',\n",
       " 'herself',\n",
       " 'him',\n",
       " 'himself',\n",
       " 'his',\n",
       " 'how',\n",
       " 'i',\n",
       " 'if',\n",
       " 'in',\n",
       " 'into',\n",
       " 'is',\n",
       " 'isn',\n",
       " 'it',\n",
       " 'its',\n",
       " 'itself',\n",
       " 'just',\n",
       " 'll',\n",
       " 'm',\n",
       " 'ma',\n",
       " 'me',\n",
       " 'mightn',\n",
       " 'more',\n",
       " 'most',\n",
       " 'mustn',\n",
       " 'my',\n",
       " 'myself',\n",
       " 'needn',\n",
       " 'no',\n",
       " 'nor',\n",
       " 'not',\n",
       " 'now',\n",
       " 'o',\n",
       " 'of',\n",
       " 'off',\n",
       " 'on',\n",
       " 'once',\n",
       " 'only',\n",
       " 'or',\n",
       " 'other',\n",
       " 'our',\n",
       " 'ours',\n",
       " 'ourselves',\n",
       " 'out',\n",
       " 'over',\n",
       " 'own',\n",
       " 're',\n",
       " 's',\n",
       " 'same',\n",
       " 'shan',\n",
       " 'she',\n",
       " 'should',\n",
       " 'shouldn',\n",
       " 'so',\n",
       " 'some',\n",
       " 'such',\n",
       " 't',\n",
       " 'than',\n",
       " 'that',\n",
       " 'the',\n",
       " 'their',\n",
       " 'theirs',\n",
       " 'them',\n",
       " 'themselves',\n",
       " 'then',\n",
       " 'there',\n",
       " 'these',\n",
       " 'they',\n",
       " 'this',\n",
       " 'those',\n",
       " 'through',\n",
       " 'to',\n",
       " 'too',\n",
       " 'under',\n",
       " 'until',\n",
       " 'up',\n",
       " 've',\n",
       " 'very',\n",
       " 'was',\n",
       " 'wasn',\n",
       " 'we',\n",
       " 'were',\n",
       " 'weren',\n",
       " 'what',\n",
       " 'when',\n",
       " 'where',\n",
       " 'which',\n",
       " 'while',\n",
       " 'who',\n",
       " 'whom',\n",
       " 'why',\n",
       " 'will',\n",
       " 'with',\n",
       " 'won',\n",
       " 'wouldn',\n",
       " 'y',\n",
       " 'you',\n",
       " 'your',\n",
       " 'yours',\n",
       " 'yourself',\n",
       " 'yourselves'}"
      ]
     },
     "execution_count": 7,
     "metadata": {},
     "output_type": "execute_result"
    }
   ],
   "source": [
    "stopset"
   ]
  },
  {
   "cell_type": "code",
   "execution_count": 53,
   "metadata": {
    "collapsed": true
   },
   "outputs": [],
   "source": [
    "stopset.update(['nntp', '00', 'na', 'cs', 'edu', '000', 'ca', 'com', '151', '74', 'subject', '001', '100', 'roger', 'bob', 'john', 'morris', 'hirschbeck', 'dave', 'cott', 'netcomm', '0010', '03',  ])"
   ]
  },
  {
   "cell_type": "code",
   "execution_count": 54,
   "metadata": {
    "collapsed": true
   },
   "outputs": [],
   "source": [
    "vectorizer = TfidfVectorizer(stop_words=stopset, use_idf=True, ngram_range=(1, 3))\n",
    "X = vectorizer.fit_transform(corpus)"
   ]
  },
  {
   "cell_type": "code",
   "execution_count": 55,
   "metadata": {
    "collapsed": false
   },
   "outputs": [
    {
     "data": {
      "text/plain": [
       "<1x188237 sparse matrix of type '<class 'numpy.float64'>'\n",
       "\twith 224 stored elements in Compressed Sparse Row format>"
      ]
     },
     "execution_count": 55,
     "metadata": {},
     "output_type": "execute_result"
    }
   ],
   "source": [
    "X[0]"
   ]
  },
  {
   "cell_type": "code",
   "execution_count": 56,
   "metadata": {
    "collapsed": false
   },
   "outputs": [
    {
     "name": "stdout",
     "output_type": "stream",
     "text": [
      "  (0, 51361)\t0.0741785445934\n",
      "  (0, 187497)\t0.0741785445934\n",
      "  (0, 29340)\t0.0741785445934\n",
      "  (0, 144786)\t0.0741785445934\n",
      "  (0, 62643)\t0.0741785445934\n",
      "  (0, 76482)\t0.0741785445934\n",
      "  (0, 131993)\t0.0741785445934\n",
      "  (0, 101852)\t0.0741785445934\n",
      "  (0, 65032)\t0.0741785445934\n",
      "  (0, 112937)\t0.0741785445934\n",
      "  (0, 161229)\t0.0741785445934\n",
      "  (0, 179438)\t0.0741785445934\n",
      "  (0, 118350)\t0.0741785445934\n",
      "  (0, 62782)\t0.0741785445934\n",
      "  (0, 102344)\t0.0741785445934\n",
      "  (0, 94050)\t0.0741785445934\n",
      "  (0, 131908)\t0.0741785445934\n",
      "  (0, 141921)\t0.0741785445934\n",
      "  (0, 96691)\t0.0741785445934\n",
      "  (0, 113511)\t0.0741785445934\n",
      "  (0, 163631)\t0.0741785445934\n",
      "  (0, 59244)\t0.0741785445934\n",
      "  (0, 51401)\t0.0741785445934\n",
      "  (0, 36163)\t0.0741785445934\n",
      "  (0, 62768)\t0.0741785445934\n",
      "  :\t:\n",
      "  (0, 83086)\t0.0345649014532\n",
      "  (0, 184016)\t0.0157009681591\n",
      "  (0, 142171)\t0.0557433759844\n",
      "  (0, 121031)\t0.111486751969\n",
      "  (0, 37865)\t0.0999711310565\n",
      "  (0, 40938)\t0.105566908817\n",
      "  (0, 16849)\t0.0741785445934\n",
      "  (0, 93426)\t0.111486751969\n",
      "  (0, 26142)\t0.016239775214\n",
      "  (0, 7473)\t0.0378963024934\n",
      "  (0, 99538)\t0.0103510947219\n",
      "  (0, 161817)\t0.061289037409\n",
      "  (0, 48094)\t0.0391840889869\n",
      "  (0, 173668)\t0.0395328974246\n",
      "  (0, 112732)\t0.061289037409\n",
      "  (0, 173704)\t0.0181156568255\n",
      "  (0, 157469)\t0.0375980536832\n",
      "  (0, 29862)\t0.0309170361606\n",
      "  (0, 120417)\t0.010371922388\n",
      "  (0, 66593)\t0.125750145425\n",
      "  (0, 51283)\t0.162472022042\n",
      "  (0, 39134)\t0.0510153105722\n",
      "  (0, 39160)\t0.0510153105722\n",
      "  (0, 97728)\t0.0499855655282\n",
      "  (0, 184953)\t0.0741785445934\n"
     ]
    }
   ],
   "source": [
    "print(X[0])"
   ]
  },
  {
   "cell_type": "code",
   "execution_count": 57,
   "metadata": {
    "collapsed": false
   },
   "outputs": [
    {
     "data": {
      "text/plain": [
       "(994, 188237)"
      ]
     },
     "execution_count": 57,
     "metadata": {},
     "output_type": "execute_result"
    }
   ],
   "source": [
    "X.shape"
   ]
  },
  {
   "cell_type": "code",
   "execution_count": 58,
   "metadata": {
    "collapsed": false
   },
   "outputs": [
    {
     "data": {
      "text/plain": [
       "TruncatedSVD(algorithm='randomized', n_components=27, n_iter=100,\n",
       "       random_state=None, tol=0.0)"
      ]
     },
     "execution_count": 58,
     "metadata": {},
     "output_type": "execute_result"
    }
   ],
   "source": [
    "lsa = TruncatedSVD(n_components=27, n_iter=100)\n",
    "lsa.fit(X)"
   ]
  },
  {
   "cell_type": "code",
   "execution_count": 59,
   "metadata": {
    "collapsed": false
   },
   "outputs": [
    {
     "data": {
      "text/plain": [
       "array([ 0.00058705,  0.00058705,  0.00058705, ...,  0.00113767,\n",
       "        0.00113767,  0.00113767])"
      ]
     },
     "execution_count": 59,
     "metadata": {},
     "output_type": "execute_result"
    }
   ],
   "source": [
    "lsa.components_[0]"
   ]
  },
  {
   "cell_type": "code",
   "execution_count": 60,
   "metadata": {
    "collapsed": false
   },
   "outputs": [
    {
     "name": "stdout",
     "output_type": "stream",
     "text": [
      "3.5.2 |Anaconda 4.2.0 (64-bit)| (default, Jul  5 2016, 11:41:13) [MSC v.1900 64 bit (AMD64)]\n"
     ]
    }
   ],
   "source": [
    "import sys\n",
    "print (sys.version)"
   ]
  },
  {
   "cell_type": "code",
   "execution_count": 61,
   "metadata": {
    "collapsed": false
   },
   "outputs": [
    {
     "name": "stdout",
     "output_type": "stream",
     "text": [
      "Concept 0:\n",
      "year\n",
      "team\n",
      "would\n",
      "game\n",
      "writes\n",
      "article\n",
      "baseball\n",
      "players\n",
      "games\n",
      "one\n",
      " \n",
      "Concept 1:\n",
      "would\n",
      "001211\n",
      "jewish\n",
      "time\n",
      "000th career win\n",
      "lines\n",
      "lafayette\n",
      "lafibm\n",
      "vb30\n",
      "000th\n",
      " \n",
      "Concept 2:\n",
      "clutch\n",
      "win\n",
      "would\n",
      "last year\n",
      "hit\n",
      "say\n",
      "let\n",
      "hitting\n",
      "come\n",
      "hitter\n",
      " \n",
      "Concept 3:\n",
      "gant\n",
      "games\n",
      "time\n",
      "run\n",
      "well\n",
      "season\n",
      "anyone\n",
      "play\n",
      "might\n",
      "first\n",
      " \n",
      "Concept 4:\n",
      "game\n",
      "pitcher\n",
      "ibm\n",
      "baseball\n",
      "aix\n",
      "games\n",
      "see\n",
      "hcf\n",
      "runs\n",
      "mark\n",
      " \n",
      "Concept 5:\n",
      "first\n",
      "would\n",
      "game\n",
      "team\n",
      "one\n",
      "make\n",
      "league\n",
      "let\n",
      "players\n",
      "run\n",
      " \n",
      "Concept 6:\n",
      "could\n",
      "good\n",
      "two\n",
      "000th career win\n",
      "season\n",
      "runs\n",
      "years\n",
      "know\n",
      "start\n",
      "also\n",
      " \n",
      "Concept 7:\n",
      "one\n",
      "braves\n",
      "go\n",
      "baseball\n",
      "game\n",
      "article\n",
      "maybe\n",
      "win\n",
      "bonds\n",
      "day\n",
      " \n",
      "Concept 8:\n",
      "team\n",
      "game\n",
      "back\n",
      "players\n",
      "article\n",
      "people\n",
      "still\n",
      "could\n",
      "going\n",
      "give\n",
      " \n",
      "Concept 9:\n",
      "team\n",
      "well\n",
      "see\n",
      "reply\n",
      "probably\n",
      "12\n",
      "like\n",
      "would\n",
      "hitting\n",
      "look\n",
      " \n",
      "Concept 10:\n",
      "good\n",
      "hit\n",
      "one\n",
      "might\n",
      "posting host\n",
      "really\n",
      "year\n",
      "baseball\n",
      "two\n",
      "1992\n",
      " \n",
      "Concept 11:\n",
      "000th\n",
      "good\n",
      "year\n",
      "last\n",
      "second\n",
      "organization university\n",
      "think\n",
      "games\n",
      "runs\n",
      "look\n",
      " \n",
      "Concept 12:\n",
      "time\n",
      "university\n",
      "think\n",
      "team\n",
      "season\n",
      "way\n",
      "mets\n",
      "article\n",
      "hitter\n",
      "organization university\n",
      " \n",
      "Concept 13:\n",
      "hit\n",
      "team\n",
      "university\n",
      "play\n",
      "time\n",
      "well\n",
      "1992\n",
      "run\n",
      "pitcher\n",
      "made\n",
      " \n",
      "Concept 14:\n",
      "000th\n",
      "000th career win\n",
      "game\n",
      "last\n",
      "games\n",
      "anyone\n",
      "would\n",
      "get\n",
      "posting\n",
      "posting host\n",
      " \n",
      "Concept 15:\n",
      "good\n",
      "runs\n",
      "best\n",
      "players\n",
      "last\n",
      "get\n",
      "better\n",
      "team\n",
      "time\n",
      "hitter\n",
      " \n",
      "Concept 16:\n",
      "game\n",
      "know\n",
      "year\n",
      "games\n",
      "say\n",
      "years\n",
      "001211 18457\n",
      "baseball\n",
      "writes article\n",
      "many\n",
      " \n",
      "Concept 17:\n",
      "one\n",
      "league\n",
      "could\n",
      "good\n",
      "going\n",
      "ibm\n",
      "mark\n",
      "jewish\n",
      "season\n",
      "posting host\n",
      " \n",
      "Concept 18:\n",
      "would\n",
      "players\n",
      "000th\n",
      "david\n",
      "win\n",
      "organization university\n",
      "new\n",
      "lines\n",
      "distribution\n",
      "play\n",
      " \n",
      "Concept 19:\n",
      "game\n",
      "organization university\n",
      "think\n",
      "players\n",
      "said\n",
      "hit\n",
      "day\n",
      "believe\n",
      "wins\n",
      "series\n",
      " \n",
      "Concept 20:\n",
      "game\n",
      "games\n",
      "year\n",
      "good\n",
      "000th career\n",
      "david\n",
      "players\n",
      "even\n",
      "team\n",
      "really\n",
      " \n",
      "Concept 21:\n",
      "first\n",
      "year\n",
      "better\n",
      "new\n",
      "like\n",
      "time\n",
      "article\n",
      "make\n",
      "right\n",
      "12\n",
      " \n",
      "Concept 22:\n",
      "would\n",
      "000th career\n",
      "writes\n",
      "even\n",
      "game\n",
      "000th career win\n",
      "001211\n",
      "still\n",
      "years\n",
      "go\n",
      " \n",
      "Concept 23:\n",
      "last\n",
      "university\n",
      "article\n",
      "last year\n",
      "posting host\n",
      "best\n",
      "even\n",
      "going\n",
      "game\n",
      "people\n",
      " \n",
      "Concept 24:\n",
      "games\n",
      "article\n",
      "think\n",
      "could\n",
      "time\n",
      "pitching\n",
      "runs\n",
      "maybe\n",
      "first\n",
      "001211\n",
      " \n",
      "Concept 25:\n",
      "000th career\n",
      "like\n",
      "001211\n",
      "first\n",
      "last\n",
      "team\n",
      "000th\n",
      "time\n",
      "baseball\n",
      "cubs\n",
      " \n",
      "Concept 26:\n",
      "last\n",
      "win\n",
      "one\n",
      "article\n",
      "000th career win\n",
      "could\n",
      "000th career\n",
      "players\n",
      "writes\n",
      "play\n",
      " \n"
     ]
    }
   ],
   "source": [
    "terms = vectorizer.get_feature_names()\n",
    "for i, comp in enumerate(lsa.components_): \n",
    "    termsInComp = zip (terms,comp)\n",
    "    sortedTerms =  sorted(termsInComp, key=lambda x: x[1], reverse=True) [:10]\n",
    "    print(\"Concept %d:\" % i )\n",
    "    for term in sortedTerms:\n",
    "        print(term[0])\n",
    "    print (\" \")"
   ]
  },
  {
   "cell_type": "code",
   "execution_count": 62,
   "metadata": {
    "collapsed": false
   },
   "outputs": [
    {
     "data": {
      "text/plain": [
       "array([[  5.87045059e-04,   5.87045059e-04,   5.87045059e-04, ...,\n",
       "          1.13766622e-03,   1.13766622e-03,   1.13766622e-03],\n",
       "       [  3.79333797e-03,   4.78832118e-02,  -4.81768836e-02, ...,\n",
       "         -2.22601645e-03,  -2.22601645e-03,  -2.22601645e-03],\n",
       "       [  8.87211562e-03,   4.37779548e-02,  -4.04186339e-02, ...,\n",
       "         -3.56161804e-04,  -3.56161804e-04,  -3.56161804e-04],\n",
       "       ..., \n",
       "       [ -4.70095378e-03,  -7.53298990e-03,  -8.10302986e-03, ...,\n",
       "         -7.95331400e-04,  -7.95331400e-04,  -7.95331400e-04],\n",
       "       [  4.04442606e-03,   1.03415089e-02,  -4.59569302e-04, ...,\n",
       "         -8.03915656e-05,  -8.03915656e-05,  -8.03915656e-05],\n",
       "       [  7.17790867e-03,   1.15143931e-02,  -3.34487759e-02, ...,\n",
       "          7.01171932e-04,   7.01171932e-04,   7.01171932e-04]])"
      ]
     },
     "execution_count": 62,
     "metadata": {},
     "output_type": "execute_result"
    }
   ],
   "source": [
    "lsa.components_"
   ]
  },
  {
   "cell_type": "code",
   "execution_count": null,
   "metadata": {
    "collapsed": true
   },
   "outputs": [],
   "source": []
  }
 ],
 "metadata": {
  "anaconda-cloud": {},
  "kernelspec": {
   "display_name": "Python [default]",
   "language": "python",
   "name": "python3"
  },
  "language_info": {
   "codemirror_mode": {
    "name": "ipython",
    "version": 3
   },
   "file_extension": ".py",
   "mimetype": "text/x-python",
   "name": "python",
   "nbconvert_exporter": "python",
   "pygments_lexer": "ipython3",
   "version": "3.5.2"
  }
 },
 "nbformat": 4,
 "nbformat_minor": 1
}
